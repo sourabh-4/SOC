{
 "cells": [
  {
   "cell_type": "code",
   "execution_count": 1,
   "metadata": {},
   "outputs": [
    {
     "name": "stdout",
     "output_type": "stream",
     "text": [
      "WARNING:tensorflow:From c:\\Users\\manda\\AppData\\Local\\Programs\\Python\\Python311\\Lib\\site-packages\\keras\\src\\losses.py:2976: The name tf.losses.sparse_softmax_cross_entropy is deprecated. Please use tf.compat.v1.losses.sparse_softmax_cross_entropy instead.\n",
      "\n"
     ]
    }
   ],
   "source": [
    "import tensorflow as tf\n",
    "from tensorflow.keras.datasets import mnist\n",
    "from tensorflow.keras.models import Sequential\n",
    "from tensorflow.keras.layers import Dense, Dropout, Flatten\n",
    "from tensorflow.keras.utils import to_categorical\n",
    "from sklearn.model_selection import train_test_split\n",
    "\n"
   ]
  },
  {
   "cell_type": "code",
   "execution_count": 2,
   "metadata": {},
   "outputs": [],
   "source": [
    "# Load the dataset\n",
    "(x_train, y_train), (x_test, y_test) = mnist.load_data()\n",
    "\n",
    "# Normalize the images to a range of 0 to 1\n",
    "x_train = x_train / 255.0\n",
    "x_test = x_test / 255.0\n",
    "\n",
    "# Reshape the data to fit the model\n",
    "x_train = x_train.reshape(-1, 28 * 28)\n",
    "x_test = x_test.reshape(-1, 28 * 28)\n",
    "\n",
    "# One-hot encode the labels\n",
    "y_train = to_categorical(y_train, 10)\n",
    "y_test = to_categorical(y_test, 10)\n",
    "\n",
    "# Split the training data into training and validation sets\n",
    "x_train, x_val, y_train, y_val = train_test_split(x_train, y_train, test_size=0.2, random_state=42)\n"
   ]
  },
  {
   "cell_type": "code",
   "execution_count": 3,
   "metadata": {},
   "outputs": [],
   "source": [
    "def create_model(depth=1, width=64, dropout_rate=0.2):\n",
    "    model = Sequential()\n",
    "    model.add(Dense(width, input_shape=(28*28,), activation='relu'))\n",
    "    for _ in range(depth - 1):\n",
    "        model.add(Dense(width, activation='relu'))\n",
    "        model.add(Dropout(dropout_rate))\n",
    "    model.add(Dense(10, activation='softmax'))\n",
    "    \n",
    "    model.compile(optimizer='adam', loss='categorical_crossentropy', metrics=['accuracy'])\n",
    "    return model\n"
   ]
  },
  {
   "cell_type": "code",
   "execution_count": 4,
   "metadata": {},
   "outputs": [
    {
     "name": "stdout",
     "output_type": "stream",
     "text": [
      "WARNING:tensorflow:From c:\\Users\\manda\\AppData\\Local\\Programs\\Python\\Python311\\Lib\\site-packages\\keras\\src\\backend.py:873: The name tf.get_default_graph is deprecated. Please use tf.compat.v1.get_default_graph instead.\n",
      "\n",
      "WARNING:tensorflow:From c:\\Users\\manda\\AppData\\Local\\Programs\\Python\\Python311\\Lib\\site-packages\\keras\\src\\optimizers\\__init__.py:309: The name tf.train.Optimizer is deprecated. Please use tf.compat.v1.train.Optimizer instead.\n",
      "\n",
      "Epoch 1/10\n",
      "WARNING:tensorflow:From c:\\Users\\manda\\AppData\\Local\\Programs\\Python\\Python311\\Lib\\site-packages\\keras\\src\\utils\\tf_utils.py:492: The name tf.ragged.RaggedTensorValue is deprecated. Please use tf.compat.v1.ragged.RaggedTensorValue instead.\n",
      "\n",
      "WARNING:tensorflow:From c:\\Users\\manda\\AppData\\Local\\Programs\\Python\\Python311\\Lib\\site-packages\\keras\\src\\engine\\base_layer_utils.py:384: The name tf.executing_eagerly_outside_functions is deprecated. Please use tf.compat.v1.executing_eagerly_outside_functions instead.\n",
      "\n",
      "1500/1500 [==============================] - 5s 3ms/step - loss: 0.3009 - accuracy: 0.9115 - val_loss: 0.1676 - val_accuracy: 0.9502\n",
      "Epoch 2/10\n",
      "1500/1500 [==============================] - 4s 2ms/step - loss: 0.1271 - accuracy: 0.9623 - val_loss: 0.1188 - val_accuracy: 0.9631\n",
      "Epoch 3/10\n",
      "1500/1500 [==============================] - 3s 2ms/step - loss: 0.0886 - accuracy: 0.9729 - val_loss: 0.0989 - val_accuracy: 0.9683\n",
      "Epoch 4/10\n",
      "1500/1500 [==============================] - 4s 2ms/step - loss: 0.0690 - accuracy: 0.9785 - val_loss: 0.0861 - val_accuracy: 0.9753\n",
      "Epoch 5/10\n",
      "1500/1500 [==============================] - 7s 5ms/step - loss: 0.0572 - accuracy: 0.9819 - val_loss: 0.0807 - val_accuracy: 0.9773\n",
      "Epoch 6/10\n",
      "1500/1500 [==============================] - 9s 6ms/step - loss: 0.0483 - accuracy: 0.9851 - val_loss: 0.0799 - val_accuracy: 0.9787\n",
      "Epoch 7/10\n",
      "1500/1500 [==============================] - 4s 3ms/step - loss: 0.0419 - accuracy: 0.9860 - val_loss: 0.0827 - val_accuracy: 0.9777\n",
      "Epoch 8/10\n",
      "1500/1500 [==============================] - 4s 2ms/step - loss: 0.0331 - accuracy: 0.9895 - val_loss: 0.0864 - val_accuracy: 0.9799\n",
      "Epoch 9/10\n",
      "1500/1500 [==============================] - 4s 2ms/step - loss: 0.0309 - accuracy: 0.9900 - val_loss: 0.0892 - val_accuracy: 0.9791\n",
      "Epoch 10/10\n",
      "1500/1500 [==============================] - 3s 2ms/step - loss: 0.0294 - accuracy: 0.9907 - val_loss: 0.0841 - val_accuracy: 0.9803\n"
     ]
    }
   ],
   "source": [
    "# Example of training the model with specific hyperparameters\n",
    "model = create_model(depth=2, width=128, dropout_rate=0.3)\n",
    "\n",
    "history = model.fit(x_train, y_train, epochs=10, batch_size=32, validation_data=(x_val, y_val))\n"
   ]
  },
  {
   "cell_type": "code",
   "execution_count": 6,
   "metadata": {},
   "outputs": [
    {
     "name": "stdout",
     "output_type": "stream",
     "text": [
      "Best Validation Accuracy: 0.9816666841506958\n",
      "Best Hyperparameters: {'depth': 2, 'width': 128, 'dropout_rate': 0.3}\n"
     ]
    }
   ],
   "source": [
    "import numpy as np\n",
    "\n",
    "# Define the hyperparameter grid\n",
    "depth_options = [1, 2, 3]\n",
    "width_options = [64, 128, 256]\n",
    "dropout_options = [0.2, 0.3, 0.4]\n",
    "\n",
    "best_accuracy = 0\n",
    "best_params = {}\n",
    "\n",
    "# Perform grid search\n",
    "for depth in depth_options:\n",
    "    for width in width_options:\n",
    "        for dropout_rate in dropout_options:\n",
    "            model = create_model(depth=depth, width=width, dropout_rate=dropout_rate)\n",
    "            history = model.fit(x_train, y_train, epochs=10, batch_size=32, validation_data=(x_val, y_val), verbose=0)\n",
    "            val_accuracy = np.max(history.history['val_accuracy'])\n",
    "            \n",
    "            if val_accuracy > best_accuracy:\n",
    "                best_accuracy = val_accuracy\n",
    "                best_params = {'depth': depth, 'width': width, 'dropout_rate': dropout_rate}\n",
    "\n",
    "print(f\"Best Validation Accuracy: {best_accuracy}\")\n",
    "print(f\"Best Hyperparameters: {best_params}\")\n"
   ]
  },
  {
   "cell_type": "code",
   "execution_count": 8,
   "metadata": {},
   "outputs": [
    {
     "name": "stdout",
     "output_type": "stream",
     "text": [
      "Epoch 1/10\n",
      "1500/1500 [==============================] - 9s 5ms/step - loss: 0.3045 - accuracy: 0.9082 - val_loss: 0.1432 - val_accuracy: 0.9579\n",
      "Epoch 2/10\n",
      "1500/1500 [==============================] - 9s 6ms/step - loss: 0.1316 - accuracy: 0.9603 - val_loss: 0.1014 - val_accuracy: 0.9697\n",
      "Epoch 3/10\n",
      "1500/1500 [==============================] - 9s 6ms/step - loss: 0.0944 - accuracy: 0.9708 - val_loss: 0.0967 - val_accuracy: 0.9708\n",
      "Epoch 4/10\n",
      "1500/1500 [==============================] - 9s 6ms/step - loss: 0.0724 - accuracy: 0.9774 - val_loss: 0.0901 - val_accuracy: 0.9743\n",
      "Epoch 5/10\n",
      "1500/1500 [==============================] - 9s 6ms/step - loss: 0.0590 - accuracy: 0.9813 - val_loss: 0.0817 - val_accuracy: 0.9760\n",
      "Epoch 6/10\n",
      "1500/1500 [==============================] - 9s 6ms/step - loss: 0.0463 - accuracy: 0.9844 - val_loss: 0.0819 - val_accuracy: 0.9778\n",
      "Epoch 7/10\n",
      "1500/1500 [==============================] - 9s 6ms/step - loss: 0.0428 - accuracy: 0.9862 - val_loss: 0.0873 - val_accuracy: 0.9782\n",
      "Epoch 8/10\n",
      "1500/1500 [==============================] - 9s 6ms/step - loss: 0.0349 - accuracy: 0.9883 - val_loss: 0.0925 - val_accuracy: 0.9776\n",
      "Epoch 9/10\n",
      "1500/1500 [==============================] - 9s 6ms/step - loss: 0.0319 - accuracy: 0.9900 - val_loss: 0.0909 - val_accuracy: 0.9788\n",
      "Epoch 10/10\n",
      "1500/1500 [==============================] - 9s 6ms/step - loss: 0.0278 - accuracy: 0.9913 - val_loss: 0.0952 - val_accuracy: 0.9771\n",
      "313/313 [==============================] - 1s 4ms/step - loss: 0.0907 - accuracy: 0.9786\n",
      "Test Accuracy: 0.978600025177002\n"
     ]
    }
   ],
   "source": [
    "# Train the best model\n",
    "best_model = create_model(depth=best_params['depth'], width=best_params['width'], dropout_rate=best_params['dropout_rate'])\n",
    "best_model.fit(x_train, y_train, epochs=10, batch_size=32, validation_data=(x_val, y_val))\n",
    "\n",
    "# Evaluate on the test set\n",
    "test_loss, test_accuracy = best_model.evaluate(x_test, y_test)\n",
    "print(f\"Test Accuracy: {test_accuracy}\")\n"
   ]
  },
  {
   "cell_type": "code",
   "execution_count": null,
   "metadata": {},
   "outputs": [],
   "source": []
  }
 ],
 "metadata": {
  "kernelspec": {
   "display_name": "Python 3",
   "language": "python",
   "name": "python3"
  },
  "language_info": {
   "codemirror_mode": {
    "name": "ipython",
    "version": 3
   },
   "file_extension": ".py",
   "mimetype": "text/x-python",
   "name": "python",
   "nbconvert_exporter": "python",
   "pygments_lexer": "ipython3",
   "version": "3.11.6"
  }
 },
 "nbformat": 4,
 "nbformat_minor": 2
}
